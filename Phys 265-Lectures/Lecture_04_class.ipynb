{
 "cells": [
  {
   "cell_type": "markdown",
   "id": "9211aa4c-ec0a-4231-b312-cb4048069c47",
   "metadata": {},
   "source": [
    "# Lecture 4: User defined functions\n",
    "\n",
    "\n",
    "# Today: 2/5"
   ]
  },
  {
   "cell_type": "markdown",
   "id": "b61fc7af-a78b-4a96-9416-f6926ebd9bbb",
   "metadata": {},
   "source": [
    "1. Creating user defined functions, single and multivariable\n",
    "2. Libraries\n",
    "3. Return multiple variables; unpacking.\n",
    "4. Default arguments, lambdas, docstrings.\n",
    "5. Parameter (variable) scope.\n",
    "6. Evaluate a function over a domain via looping (iteration)."
   ]
  },
  {
   "cell_type": "markdown",
   "id": "d6da7784-f5f5-4576-9e5f-0bb75b526838",
   "metadata": {},
   "source": [
    "See Hill Sec. 2.7 (Functions), except 2.7.5 (recursion)."
   ]
  },
  {
   "cell_type": "markdown",
   "id": "711dcf65-80e3-4c73-940a-c87fde084f1f",
   "metadata": {},
   "source": [
    "## Creating Functions\n",
    "\n",
    "Functions represent pieces of code you want to use repeatedly.\n",
    "\n",
    "* Declared by using `def`, and indented afterwards\n",
    "* They take *arguments* inside parentheses\n",
    "* Can *return* things to the user"
   ]
  },
  {
   "cell_type": "code",
   "execution_count": 1,
   "id": "10fb7827-f06d-469b-babd-32041e4dbdeb",
   "metadata": {},
   "outputs": [
    {
     "name": "stdout",
     "output_type": "stream",
     "text": [
      "9\n"
     ]
    }
   ],
   "source": [
    "def square(x):\n",
    "    x_squared = x**2\n",
    "    return x_squared\n",
    "\n",
    "alpha = square(3)\n",
    "print(alpha)"
   ]
  },
  {
   "cell_type": "markdown",
   "id": "ae8edc17-8d59-4764-9b48-379509ff7fd2",
   "metadata": {},
   "source": [
    "## Libraries\n",
    "\n",
    "Python has lots of *external libraries*, that are full of functions (and other things), you can use."
   ]
  },
  {
   "cell_type": "code",
   "execution_count": 3,
   "id": "b0b4a817-d233-4775-b6a8-1fb5c46bfa17",
   "metadata": {},
   "outputs": [
    {
     "name": "stdout",
     "output_type": "stream",
     "text": [
      "2.0\n",
      "3.141592653589793 2.718281828459045\n"
     ]
    }
   ],
   "source": [
    "import math\n",
    "\n",
    "print(math.sqrt(4))\n",
    "print(math.pi, math.e)"
   ]
  },
  {
   "cell_type": "markdown",
   "id": "786b3993-918c-4827-af14-1a1c7e3ead85",
   "metadata": {},
   "source": [
    "## More About functions"
   ]
  },
  {
   "cell_type": "markdown",
   "id": "afa81d26-9b31-4688-b340-9189e0ed20fa",
   "metadata": {},
   "source": [
    "Functions can have an unlimited number of arguments, and return an unlimited number of values, including `None`.\n",
    "\n",
    "Functions can even call other functions"
   ]
  },
  {
   "cell_type": "code",
   "execution_count": 22,
   "id": "49fd5f7e-48fc-43ca-b3d5-570794e8f97e",
   "metadata": {},
   "outputs": [
    {
     "name": "stdout",
     "output_type": "stream",
     "text": [
      "hello\n",
      "None\n",
      "(5.0, 25.0)\n",
      "13.0 169.0\n"
     ]
    }
   ],
   "source": [
    "def printers(x):\n",
    "    print(x)\n",
    "\n",
    "beta = printers(\"hello\")\n",
    "print(beta)\n",
    "\n",
    "\"\"\" return the sqrt of a^2 + b^2 \"\"\"\n",
    "def pythagoras(a,b):\n",
    "    c = math.sqrt(a**2 + b**2)\n",
    "    c_squared = square(c)\n",
    "\n",
    "    return c, c_squared\n",
    "\n",
    "hypotenuse = pythagoras(3,4)\n",
    "print(hypotenuse)\n",
    "\n",
    "hypo, hypo_squ = pythagoras(12,5)\n",
    "print(hypo,hypo_squ)"
   ]
  },
  {
   "cell_type": "markdown",
   "id": "014cc2b0-2991-4ae0-812b-a77977d8ea30",
   "metadata": {},
   "source": [
    "### Args and Kwargs\n"
   ]
  },
  {
   "cell_type": "markdown",
   "id": "1218917c-5a3e-460e-b5c2-53efd5384863",
   "metadata": {},
   "source": [
    "Can pass arguments *positionally* or by *keyword*. The latter are called \"**kwargs**\""
   ]
  },
  {
   "cell_type": "code",
   "execution_count": 7,
   "id": "a28fb3d9-9c5f-4be7-801e-b4aa1c9ec193",
   "metadata": {},
   "outputs": [
    {
     "data": {
      "text/plain": [
       "(13.0, 169.0)"
      ]
     },
     "execution_count": 7,
     "metadata": {},
     "output_type": "execute_result"
    }
   ],
   "source": [
    "pythagoras(5,12) #positional arguments\n",
    "pythagoras(b=12,a=5) #keyword arguments"
   ]
  },
  {
   "cell_type": "markdown",
   "id": "92af7bfd-1ebb-4586-89a4-3447ab6a05fa",
   "metadata": {},
   "source": [
    "Functions can also have default arguments"
   ]
  },
  {
   "cell_type": "code",
   "execution_count": 10,
   "id": "6dacca31-2885-4c0c-bf61-a4d2e27c0068",
   "metadata": {},
   "outputs": [
    {
     "name": "stdout",
     "output_type": "stream",
     "text": [
      "Help on built-in function print in module builtins:\n",
      "\n",
      "print(*args, sep=' ', end='\\n', file=None, flush=False)\n",
      "    Prints the values to a stream, or to sys.stdout by default.\n",
      "\n",
      "    sep\n",
      "      string inserted between values, default a space.\n",
      "    end\n",
      "      string appended after the last value, default a newline.\n",
      "    file\n",
      "      a file-like object (stream); defaults to the current sys.stdout.\n",
      "    flush\n",
      "      whether to forcibly flush the stream.\n",
      "\n"
     ]
    }
   ],
   "source": [
    "\n",
    "help(print)"
   ]
  },
  {
   "cell_type": "markdown",
   "id": "fdceecbf-a320-466b-b603-74912bde2709",
   "metadata": {},
   "source": [
    "And you can pass in the arguments as lists\n",
    "\n",
    "`*` is the \"splat\" operator. It tells python to *unpack* the list."
   ]
  },
  {
   "cell_type": "code",
   "execution_count": 13,
   "id": "41b217d3-0ea9-4b12-8f77-0d230d4a5175",
   "metadata": {},
   "outputs": [
    {
     "name": "stdout",
     "output_type": "stream",
     "text": [
      "5 12\n"
     ]
    },
    {
     "data": {
      "text/plain": [
       "(13.0, 169.0)"
      ]
     },
     "execution_count": 13,
     "metadata": {},
     "output_type": "execute_result"
    }
   ],
   "source": [
    "triangle_sides = [5,12]\n",
    "print(*triangle_sides)\n",
    "pythagoras(*triangle_sides)"
   ]
  },
  {
   "cell_type": "markdown",
   "id": "97713c6d-af55-4ecc-9747-46eecc318fa6",
   "metadata": {},
   "source": [
    "### Lambda Functions\n",
    "\n",
    "A special kind of \"*anonymous*\" function in python.\n",
    "\n",
    "Take the form:\n",
    "```\n",
    "lambda <arguments> : <expression>\n",
    "```"
   ]
  },
  {
   "cell_type": "code",
   "execution_count": 17,
   "id": "9b9254a9-6660-4504-9704-8b9136b30f89",
   "metadata": {},
   "outputs": [
    {
     "name": "stdout",
     "output_type": "stream",
     "text": [
      "15\n"
     ]
    },
    {
     "data": {
      "text/plain": [
       "3"
      ]
     },
     "execution_count": 17,
     "metadata": {},
     "output_type": "execute_result"
    }
   ],
   "source": [
    "myfunc = lambda a: a+10\n",
    "print(myfunc(5))\n",
    "\n",
    "summer = lambda a, b : a+b\n",
    "summer(1,2)"
   ]
  },
  {
   "cell_type": "markdown",
   "id": "f8d28899-580e-4aec-816a-24232265ed89",
   "metadata": {},
   "source": [
    "Functions can return other functions! Including lambdas. This will be helpful later in the class."
   ]
  },
  {
   "cell_type": "code",
   "execution_count": 16,
   "id": "ec99f858-7b6a-4581-89f7-dc2d1b965e12",
   "metadata": {},
   "outputs": [
    {
     "name": "stdout",
     "output_type": "stream",
     "text": [
      "<function my_scaling.<locals>.<lambda> at 0x00000206A8CC0720>\n",
      "12\n",
      "16\n"
     ]
    }
   ],
   "source": [
    "def my_scaling(n):\n",
    "    return lambda g: g*n\n",
    "#written a function that returns a function\n",
    "tripler = my_scaling(3)\n",
    "quadrupler = my_scaling(4)\n",
    "print(tripler)\n",
    "\n",
    "print(tripler(4))\n",
    "print(quadrupler(4))\n",
    "#lambda function are anonymous and don't need their input specified"
   ]
  },
  {
   "cell_type": "markdown",
   "id": "b067b5d7-834a-42e1-ad9d-27b6e8a5e5c3",
   "metadata": {},
   "source": [
    "### Documentation\n",
    "\n",
    "Document your code using *docstrings*. They become a `__doc__` attribute of the function."
   ]
  },
  {
   "cell_type": "code",
   "execution_count": 23,
   "id": "2d6b320f-bbed-48d5-bef2-70521152f06e",
   "metadata": {},
   "outputs": [
    {
     "name": "stdout",
     "output_type": "stream",
     "text": [
      "None\n",
      "Help on function pythagoras in module __main__:\n",
      "\n",
      "pythagoras(a, b)\n",
      "\n"
     ]
    }
   ],
   "source": [
    "print(pythagoras.__doc__) #help\n",
    "help(pythagoras)"
   ]
  },
  {
   "cell_type": "markdown",
   "id": "607316e9-9891-4835-8bdb-c871bf289cb4",
   "metadata": {},
   "source": [
    "## Scope\n",
    "\n",
    "\"Scope\" describes where variables are valid.\n",
    "\n",
    "**Local Variables**: variables declared *inside* functions, and *only* accessible *inside* the function\n",
    "\n",
    "**Global Variables**: variables declared *outside* functions, and accesible everywhere"
   ]
  },
  {
   "cell_type": "code",
   "execution_count": 26,
   "id": "befc3703-bb79-4e3b-8b58-d66d686b2fb8",
   "metadata": {},
   "outputs": [
    {
     "name": "stdout",
     "output_type": "stream",
     "text": [
      "My global variable 2\n"
     ]
    },
    {
     "ename": "NameError",
     "evalue": "name 'local_var' is not defined",
     "output_type": "error",
     "traceback": [
      "\u001b[1;31m---------------------------------------------------------------------------\u001b[0m",
      "\u001b[1;31mNameError\u001b[0m                                 Traceback (most recent call last)",
      "Cell \u001b[1;32mIn[26], line 8\u001b[0m\n\u001b[0;32m      5\u001b[0m     \u001b[38;5;28mprint\u001b[39m(\u001b[38;5;124mf\u001b[39m\u001b[38;5;124m\"\u001b[39m\u001b[38;5;124mMy global variable \u001b[39m\u001b[38;5;132;01m{\u001b[39;00mglobal_var\u001b[38;5;132;01m}\u001b[39;00m\u001b[38;5;124m\"\u001b[39m)\n\u001b[0;32m      7\u001b[0m local_func()\n\u001b[1;32m----> 8\u001b[0m \u001b[38;5;28mprint\u001b[39m(\u001b[43mlocal_var\u001b[49m)\n",
      "\u001b[1;31mNameError\u001b[0m: name 'local_var' is not defined"
     ]
    }
   ],
   "source": [
    "global_var = 2\n",
    "\n",
    "def local_func():\n",
    "    local_var = 3.\n",
    "    print(f\"My global variable {global_var}\")\n",
    "\n",
    "local_func()\n",
    "print(local_var)"
   ]
  },
  {
   "cell_type": "markdown",
   "id": "1063c966-a5a6-4021-9808-cda8da18ed54",
   "metadata": {},
   "source": [
    "Python \"resolves\" the meaning of variables in four steps (LEGB):\n",
    "\n",
    "1. Locally\n",
    "2. Enclosing (for nested functions)\n",
    "3. Globally\n",
    "4. Built-in (e.g. python built-in keywords like `range`)"
   ]
  },
  {
   "cell_type": "code",
   "execution_count": 33,
   "id": "916f76cd-7c8b-488c-b750-db7d67248538",
   "metadata": {},
   "outputs": [
    {
     "name": "stdout",
     "output_type": "stream",
     "text": [
      "At declaration a = 4\n",
      "Inside function a = banana\n",
      "After the override function a = 4\n"
     ]
    }
   ],
   "source": [
    "a = 4\n",
    "print(f\"At declaration a = {a}\")\n",
    "\n",
    "def override():\n",
    "   # global a\n",
    "    a = \"banana\"\n",
    "    print(f\"Inside function a = {a}\") \n",
    "\n",
    "override()\n",
    "\n",
    "print(f\"After the override function a = {a}\")"
   ]
  },
  {
   "cell_type": "markdown",
   "id": "ece350f9-c36f-44ac-a58a-0bd00251e3df",
   "metadata": {},
   "source": [
    "As a general rule: **define variables as locally as possible** and **do not re-use** variable names."
   ]
  },
  {
   "cell_type": "markdown",
   "id": "7bf0a984-ddb3-47ed-8b20-4b79750d2eaf",
   "metadata": {},
   "source": [
    "We also **strongly discourage** trying to modify a parameter from within a function. Instead, **return** it."
   ]
  },
  {
   "cell_type": "code",
   "execution_count": 31,
   "id": "734208e7-bd41-4903-81f1-37e732173204",
   "metadata": {},
   "outputs": [
    {
     "name": "stdout",
     "output_type": "stream",
     "text": [
      "6\n"
     ]
    }
   ],
   "source": [
    "carrots = 3\n",
    "\n",
    "def double_it(input):\n",
    "    return input*2\n",
    "\n",
    "extra_carrots = double_it(carrots)\n",
    "print(extra_carrots)"
   ]
  },
  {
   "cell_type": "markdown",
   "id": "addd3c6d-29df-426d-83de-7758f5ef1116",
   "metadata": {},
   "source": [
    "If you are **sure** you want access to a doubly-named global variable (this is a bad idea usually!!), then you can use the `global` argument."
   ]
  },
  {
   "cell_type": "markdown",
   "id": "be42222e-0117-4c11-b41b-87ca656087fe",
   "metadata": {},
   "source": [
    "## Iteration\n",
    "\n",
    "Sometimes we want to evalute a function many times. Python contains many helper routines!\n",
    "\n",
    "We can use `linspace` or `arange` to define the domain of a function.\n",
    "\n",
    "* `linspace`: specify start, stop, and number of points\n",
    "* `arange`: specify start, stop, and size of jump\n",
    "\n",
    "\n",
    "`arange` is quite similar to list(range(...))"
   ]
  },
  {
   "cell_type": "code",
   "execution_count": 37,
   "id": "d9377845-5d14-48fd-97a8-3f1446eece65",
   "metadata": {},
   "outputs": [
    {
     "name": "stdout",
     "output_type": "stream",
     "text": [
      "[ 10.  20.  30.  40.  50.  60.  70.  80.  90. 100.]\n",
      "[10 15 20 25 30 35 40 45 50 55 60 65 70 75 80 85 90 95]\n",
      "[0, 1, 2, 3, 4, 5, 6, 7, 8, 9]\n"
     ]
    }
   ],
   "source": [
    "import numpy as np \n",
    "\n",
    "x_vals = np.linspace(10,100,10)\n",
    "print(x_vals)\n",
    "#print(type(x_vals[0])\n",
    "#better control over the value of 'junk'\n",
    "x_vals_arange = np.arange(10, 100, 5)\n",
    "print(x_vals_arange)\n",
    "#print(type(x_vals_arange[0])\n",
    "x_vals_range = range(10)\n",
    "print(list(x_vals_range))"
   ]
  },
  {
   "cell_type": "markdown",
   "id": "0a884e2b-4822-477e-bb04-0ca3bcd34618",
   "metadata": {},
   "source": [
    "And can use np.zeros() to create an empty array to store the results of a function evaluation."
   ]
  },
  {
   "cell_type": "code",
   "execution_count": 40,
   "id": "635dbc86-1ff1-4055-a75c-017205353a00",
   "metadata": {},
   "outputs": [
    {
     "name": "stdout",
     "output_type": "stream",
     "text": [
      "[0. 0. 0. 0. 0. 0. 0. 0. 0. 0.]\n",
      "[0. 0. 0. 0. 0. 0. 0. 0. 0. 0.]\n"
     ]
    }
   ],
   "source": [
    "y_vals = np.zeros(len(x_vals))\n",
    "print(y_vals)\n",
    "y_vals = np.zeros_like(x_vals)\n",
    "print(y_vals)"
   ]
  },
  {
   "cell_type": "markdown",
   "id": "785d0336-b1e3-4028-b1e2-b55a632b2403",
   "metadata": {},
   "source": [
    "Use a for loop to evaluate a function of a single variable over a domain."
   ]
  },
  {
   "cell_type": "code",
   "execution_count": 41,
   "id": "c03da5fa-9a06-4253-a3f9-341e4462d90a",
   "metadata": {},
   "outputs": [
    {
     "name": "stdout",
     "output_type": "stream",
     "text": [
      "[  100.   400.   900.  1600.  2500.  3600.  4900.  6400.  8100. 10000.]\n"
     ]
    }
   ],
   "source": [
    "for i in range(len(x_vals)):\n",
    "    y_vals[i] = square(x_vals[i])\n",
    "\n",
    "print(y_vals)"
   ]
  },
  {
   "cell_type": "markdown",
   "id": "ba38e731-ee6f-48d6-a7bd-a705b7510637",
   "metadata": {},
   "source": [
    "## Bonus: Numpy vectorization\n",
    "\n",
    "As a general rule, *looping* in python is *extremely inefficient*\n",
    "\n",
    "Libraries like numpy contain clever vectorizations, that allow you to perform actions on whole arrays at once."
   ]
  },
  {
   "cell_type": "code",
   "execution_count": 42,
   "id": "b8d84eae-bc9d-47bb-8b79-411d61df4d82",
   "metadata": {},
   "outputs": [
    {
     "name": "stdout",
     "output_type": "stream",
     "text": [
      "[  100.   400.   900.  1600.  2500.  3600.  4900.  6400.  8100. 10000.]\n"
     ]
    }
   ],
   "source": [
    "y_vals = square(x_vals)\n",
    "print(y_vals)"
   ]
  },
  {
   "cell_type": "markdown",
   "id": "a2068f28-4fd7-4078-877c-9073ef87fd8b",
   "metadata": {},
   "source": [
    "### Speed Comparison \n",
    "\n",
    "We can do a quick speed comparison."
   ]
  },
  {
   "cell_type": "code",
   "execution_count": 45,
   "id": "1f5fa5d3-305b-47c4-b4db-81bcb5cc17e3",
   "metadata": {},
   "outputs": [
    {
     "name": "stdout",
     "output_type": "stream",
     "text": [
      "2.19 μs ± 320 ns per loop (mean ± std. dev. of 7 runs, 1,000,000 loops each)\n"
     ]
    }
   ],
   "source": [
    "%%timeit\n",
    "for i in range(len(x_vals)):\n",
    "    y_vals[i] = square(x_vals[i])"
   ]
  },
  {
   "cell_type": "code",
   "execution_count": 46,
   "id": "637e33d7-8eea-4a71-96fc-7f048b94be4c",
   "metadata": {},
   "outputs": [
    {
     "name": "stdout",
     "output_type": "stream",
     "text": [
      "506 ns ± 38.8 ns per loop (mean ± std. dev. of 7 runs, 1,000,000 loops each)\n"
     ]
    }
   ],
   "source": [
    "%%timeit\n",
    "y_vals = square(x_vals)"
   ]
  },
  {
   "cell_type": "code",
   "execution_count": null,
   "id": "12f76d0a-8e96-494d-b94e-132ce52336a1",
   "metadata": {},
   "outputs": [],
   "source": []
  }
 ],
 "metadata": {
  "kernelspec": {
   "display_name": "Python 3 (ipykernel)",
   "language": "python",
   "name": "python3"
  },
  "language_info": {
   "codemirror_mode": {
    "name": "ipython",
    "version": 3
   },
   "file_extension": ".py",
   "mimetype": "text/x-python",
   "name": "python",
   "nbconvert_exporter": "python",
   "pygments_lexer": "ipython3",
   "version": "3.12.5"
  },
  "widgets": {
   "application/vnd.jupyter.widget-state+json": {
    "state": {},
    "version_major": 2,
    "version_minor": 0
   }
  }
 },
 "nbformat": 4,
 "nbformat_minor": 5
}
