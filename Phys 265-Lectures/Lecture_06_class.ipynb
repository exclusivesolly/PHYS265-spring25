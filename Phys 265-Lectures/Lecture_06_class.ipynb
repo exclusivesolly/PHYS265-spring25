{
 "cells": [
  {
   "cell_type": "markdown",
   "id": "778b5131-b90c-4186-86c5-818c35706f2f",
   "metadata": {},
   "source": [
    "\n",
    "# Lecture 6:  NumPy array methods\n",
    "\n",
    "how the heck do we pronounce it.    pi or pie?\n",
    "\n",
    "## Today: 2/10\n",
    "\n",
    "\n",
    "1. Creating numpy arrays\n",
    "2. numpy array attributes, array shapes.\n",
    "3. Indexing and slicing\n",
    "5. Re-shaping an array\n",
    "7. Vectorized math\n",
    "8. Dot products and cross products of vectors"
   ]
  },
  {
   "cell_type": "markdown",
   "id": "c68aacca-c14d-48d5-9b0d-5c62ea9ccff7",
   "metadata": {},
   "source": [
    "## The `ndarray`\n",
    "\n",
    "The core numpy object is the `ndarray`. \n",
    "* multidimensional table of elements\n",
    "* indexed by tuple of integers\n",
    "\n",
    "The `dtype` argument can give you explicit control over typing -- otherwise numpy infers."
   ]
  },
  {
   "cell_type": "code",
   "execution_count": 5,
   "id": "9d3be81a-39a4-4368-9cab-a95dec60ef33",
   "metadata": {},
   "outputs": [
    {
     "name": "stdout",
     "output_type": "stream",
     "text": [
      "<class 'numpy.ndarray'>\n",
      "[100 101 102]\n"
     ]
    }
   ],
   "source": [
    "import numpy as np \n",
    "a = np.array((100, 101, 102)) #tuple of values  \n",
    "# a = np.array([100, 101, 102]) #list of values \n",
    "# a = np.array([100, 101, 102], dtype=complex) #with dtype\n",
    "print(type(a))\n",
    "print(a)"
   ]
  },
  {
   "cell_type": "markdown",
   "id": "21d8939a-3691-48bf-8189-23676cbbb7c8",
   "metadata": {},
   "source": [
    "Can also be higher dimensional!"
   ]
  },
  {
   "cell_type": "code",
   "execution_count": 6,
   "id": "c212d886-0047-4282-bec5-8f50ed9866cc",
   "metadata": {},
   "outputs": [
    {
     "name": "stdout",
     "output_type": "stream",
     "text": [
      "[[1 2 3 4]\n",
      " [5 6 7 8]]\n"
     ]
    }
   ],
   "source": [
    "b = np.array([[1,2,3,4],[5,6,7,8]])\n",
    "print(b)"
   ]
  },
  {
   "cell_type": "markdown",
   "id": "9936ab19-20fd-4d07-9dd5-999fafe71c3d",
   "metadata": {},
   "source": [
    "A numpy array knows its own:\n",
    "* shape (`shape`): the values of N x M\n",
    "* rank (`ndim`): how many dimensions it has\n",
    "* size (`size`): total number of elements\n",
    "* dtype (`dtype`): what it's composed of"
   ]
  },
  {
   "cell_type": "code",
   "execution_count": 7,
   "id": "db67c92d-02e0-43b2-b840-2529bd9b3188",
   "metadata": {},
   "outputs": [
    {
     "name": "stdout",
     "output_type": "stream",
     "text": [
      "Shape is (2, 4)\n",
      "Rank is 2\n",
      "Size is 8\n",
      "Type is int64\n"
     ]
    }
   ],
   "source": [
    "print(f\"Shape is {b.shape}\") \n",
    "print(f\"Rank is {b.ndim}\") \n",
    "print(f\"Size is {b.size}\") \n",
    "print(f\"Type is {b.dtype}\") "
   ]
  },
  {
   "cell_type": "markdown",
   "id": "d0f3365b-83f5-4bcd-822b-ea05ec32fae1",
   "metadata": {},
   "source": [
    "Ways to initialize numpy arrays"
   ]
  },
  {
   "cell_type": "code",
   "execution_count": 8,
   "id": "3234044b-4908-428b-bef8-62390b9b39b5",
   "metadata": {},
   "outputs": [
    {
     "name": "stdout",
     "output_type": "stream",
     "text": [
      "0.06346651825433926\n",
      "[[nan  0.]\n",
      " [ 0.  0.]\n",
      " [ 0.  0.]\n",
      " [ 0.  0.]\n",
      " [ 0.  0.]]\n",
      "[0. 0. 0. 0.]\n",
      "[1. 1. 1. 1.]\n",
      "[3 3 3 3]\n"
     ]
    }
   ],
   "source": [
    "#manually\n",
    "a = np.array([1,2]) \n",
    "#get you back the step size\n",
    "x, dx = np.linspace(0, 2*np.pi, 100, retstep = True) #via linspace or arange, confused\n",
    "print(dx)\n",
    "\n",
    "mty = np.empty((5,2))\n",
    "print(mty)\n",
    "\n",
    "zrs = np.zeros(4)\n",
    "print(zrs)\n",
    "\n",
    "ons = np.ones(4) \n",
    "print(ons)\n",
    "\n",
    "flo = np.full(4, fill_value = 3)\n",
    "print(flo)\n",
    "\n",
    "#how to get all zeroes"
   ]
  },
  {
   "cell_type": "markdown",
   "id": "a854908f-0904-4dc3-a3f6-f74a38bebbc4",
   "metadata": {},
   "source": [
    "### `nan` and `inf`\n",
    "\n",
    "Python, and numpy, have ways to store things that are:\n",
    "* \"infinite\" (`inf`)\n",
    "* \"Not A Number\" (`nan`)"
   ]
  },
  {
   "cell_type": "code",
   "execution_count": 9,
   "id": "0d2e991c-127e-4246-add1-cd6666bc14b7",
   "metadata": {},
   "outputs": [
    {
     "name": "stdout",
     "output_type": "stream",
     "text": [
      "[ 4.  6.  8. 10.]\n",
      "[inf inf inf inf]\n"
     ]
    },
    {
     "name": "stderr",
     "output_type": "stream",
     "text": [
      "C:\\Users\\Sspir\\AppData\\Local\\Temp\\ipykernel_18644\\30422706.py:3: RuntimeWarning: divide by zero encountered in divide\n",
      "  c /=0 # an undefined operation\n"
     ]
    }
   ],
   "source": [
    "c = np.linspace(4, 10, 4)\n",
    "print(c)\n",
    "c /=0 # an undefined operation\n",
    "print(c)"
   ]
  },
  {
   "cell_type": "markdown",
   "id": "bd6e8b72-31ba-4266-9df3-c858e2372978",
   "metadata": {},
   "source": [
    "Detect nans by asking numpy. **Do Not** check equality on nans and inf with `==`. The definition of a Nan is **not a number**. Comparisons with them are not well posed questions."
   ]
  },
  {
   "cell_type": "code",
   "execution_count": 10,
   "id": "6bb2dd02-63fe-4d92-a554-3c39cfeb3258",
   "metadata": {},
   "outputs": [
    {
     "name": "stdout",
     "output_type": "stream",
     "text": [
      "Is NaN [False False False False]\n",
      "Is finite [False False False False]\n",
      "Is infinite [ True  True  True  True]\n"
     ]
    }
   ],
   "source": [
    "is_nan = np.isnan(c)\n",
    "print(f\"Is NaN {is_nan}\")\n",
    "is_finite = np.isnan(c) \n",
    "print(f\"Is finite {is_finite}\")\n",
    "is_inf = np.isinf(c) \n",
    "print(f\"Is infinite {is_inf}\")"
   ]
  },
  {
   "cell_type": "markdown",
   "id": "c39d500c-9d28-443f-98b3-eb413b8401cc",
   "metadata": {},
   "source": [
    "## Accessing Elements, Slicing"
   ]
  },
  {
   "cell_type": "markdown",
   "id": "364bd49b-0e8e-4b18-843a-41163cb0a5a0",
   "metadata": {},
   "source": [
    "Access elements via a tuple of integers, in \"row, column\" format"
   ]
  },
  {
   "cell_type": "code",
   "execution_count": 11,
   "id": "c25b893a-9cc3-4020-94c1-092751fd5a39",
   "metadata": {},
   "outputs": [
    {
     "name": "stdout",
     "output_type": "stream",
     "text": [
      "2\n"
     ]
    }
   ],
   "source": [
    "b = np.array([[1,2,3,4],[5,6,7,8]])\n",
    "print(b[0,1])"
   ]
  },
  {
   "cell_type": "markdown",
   "id": "f9949a10-2635-40bf-8255-4675fcd15194",
   "metadata": {},
   "source": [
    "Can \"slice\" over an array, just like in normal python tuples.\n",
    "\n",
    "Format of [stard:end:step].\n",
    "\n",
    "Slices over numpy arrays return **views**. It does not \"own\" the data. Attempts to change the view will not yield changes to the base object."
   ]
  },
  {
   "cell_type": "code",
   "execution_count": 12,
   "id": "2d27d0b0-8545-430c-bda7-2c4424988317",
   "metadata": {},
   "outputs": [
    {
     "name": "stdout",
     "output_type": "stream",
     "text": [
      "[ 1.  2.  3.  4.  5.  6.  7.  8.  9. 10.]\n",
      "[2. 4.]\n",
      "[8. 6. 4. 2.]\n"
     ]
    }
   ],
   "source": [
    "a = np.linspace(1, 10, 10)\n",
    "print(a)\n",
    "my_view = a[1:4:2] # start at element 1, end at element 4, stride of size 2\n",
    "print(my_view) \n",
    "\n",
    "my_backwards_view = a[7::-2] # start at element 7, end at the beginning, stride of size 2 reverse\n",
    "print(my_backwards_view)"
   ]
  },
  {
   "cell_type": "markdown",
   "id": "8ada067d-2081-46e8-aa0e-dd9313e3e74e",
   "metadata": {},
   "source": [
    "Multi-dimensional arrays have indices for each axis. If you want every item along an axis, use a colon"
   ]
  },
  {
   "cell_type": "code",
   "execution_count": 13,
   "id": "cc2cfb61-07fb-4186-a89b-58a1db472f66",
   "metadata": {},
   "outputs": [
    {
     "name": "stdout",
     "output_type": "stream",
     "text": [
      "[[ 1  2  3  4]\n",
      " [ 5  6  7  8]\n",
      " [ 9 10 11 12]]\n",
      "----\n",
      "[ 2  6 10]\n",
      "----\n",
      "[5 6 7 8]\n"
     ]
    }
   ],
   "source": [
    "b = np.array([[1,2,3,4],[5,6,7,8],[9,10,11,12]])\n",
    "print(b)\n",
    "print('----')\n",
    "print(b[:,1]) #grab all rows and the 1-th column\n",
    "print('----')\n",
    "print(b[1,:]) #grab all column and the 1-th row"
   ]
  },
  {
   "cell_type": "markdown",
   "id": "95ff097e-8ea8-4cb2-a907-c1060a45ef00",
   "metadata": {},
   "source": [
    "## Controlling Array Size and Shape"
   ]
  },
  {
   "cell_type": "markdown",
   "id": "f171c6d0-a374-4cef-a036-bae81788f8df",
   "metadata": {},
   "source": [
    "### `flatten` and `ravel`"
   ]
  },
  {
   "cell_type": "markdown",
   "id": "7c0cee44-9fa7-4d86-85ab-bf25dce82855",
   "metadata": {},
   "source": [
    "Multidimensional arrays can be **flattened**.\n",
    "\n",
    "`flatten`: returns a **independent copy** (something to which you can make changes)\n",
    "`ravel`: returns a **view** (something that simply references the original)"
   ]
  },
  {
   "cell_type": "code",
   "execution_count": 14,
   "id": "18ff3340-bd69-41d5-b9f6-2fff1769941b",
   "metadata": {},
   "outputs": [
    {
     "name": "stdout",
     "output_type": "stream",
     "text": [
      "This is b \n",
      "[[ 1  2  3  4]\n",
      " [ 5  6  7  8]\n",
      " [ 9 10 11 12]]\n",
      "This is flattened b [ 1  2  3  4  5  6  7  8  9 10 11 12]\n",
      "This is raveled b [ 1  2  3  4  5  6  7  8  9 10 11 12]\n",
      "----\n",
      "After changing flattened copy: b_flat = [-1  2  3  4  5  6  7  8  9 10 11 12]\n",
      "After changing flattened copy: b = \n",
      "[[ 1  2  3  4]\n",
      " [ 5  6  7  8]\n",
      " [ 9 10 11 12]]\n",
      "----\n",
      "After changing raveled copy: b_flat = [-2  2  3  4  5  6  7  8  9 10 11 12]\n",
      "After changing raveled copy: b = \n",
      "[[-2  2  3  4]\n",
      " [ 5  6  7  8]\n",
      " [ 9 10 11 12]]\n"
     ]
    }
   ],
   "source": [
    "b = np.array([[1,2,3,4],[5,6,7,8],[9,10,11,12]])\n",
    "b_flat = b.flatten()\n",
    "b_ravel = b.ravel() \n",
    "\n",
    "print(f\"This is b \\n{b}\")\n",
    "print(f\"This is flattened b {b_flat}\") \n",
    "print(f\"This is raveled b {b_ravel}\") \n",
    "print(\"----\")\n",
    "\n",
    "b_flat[0] = -1\n",
    "print(f\"After changing flattened copy: b_flat = {b_flat}\") \n",
    "print(f\"After changing flattened copy: b = \\n{b}\") #confused, why didn't it go to -1\n",
    "print(\"----\") \n",
    "\n",
    "b_ravel[0] = -2\n",
    "print(f\"After changing raveled copy: b_flat = {b_ravel}\")\n",
    "print(f\"After changing raveled copy: b = \\n{b}\")"
   ]
  },
  {
   "cell_type": "markdown",
   "id": "2a72922f-5eac-439e-8602-25ff64451e04",
   "metadata": {},
   "source": [
    "### `resize` and `reshape`\n",
    "\n",
    "You can also morph the shape of an array.\n",
    "\n",
    "`resize`: alter the size **inplace* (the object itself will change)\n",
    "\n",
    "`reshape`: returns a **view** on the array"
   ]
  },
  {
   "cell_type": "code",
   "execution_count": 15,
   "id": "ea7b243b-6d77-486e-9b90-a5df6c6d39f6",
   "metadata": {},
   "outputs": [
    {
     "name": "stdout",
     "output_type": "stream",
     "text": [
      "[1. 2. 3. 4.]\n",
      "[[1. 2.]\n",
      " [3. 4.]]\n"
     ]
    }
   ],
   "source": [
    "#example of resize\n",
    "a = np.linspace(1,4,4)\n",
    "print(a)\n",
    "a.resize(2,2) # cast to a 2x2 matrix\n",
    "print(a)"
   ]
  },
  {
   "cell_type": "code",
   "execution_count": 16,
   "id": "3e25c08c-16d9-4b9f-af70-669f20cf3085",
   "metadata": {},
   "outputs": [
    {
     "name": "stdout",
     "output_type": "stream",
     "text": [
      "[1. 2. 3. 4.]\n",
      "[[1. 2.]\n",
      " [3. 4.]]\n",
      "----\n",
      "[-99.   2.   3.   4.]\n"
     ]
    }
   ],
   "source": [
    "#example of reshape\n",
    "a = np.linspace(1,4,4)\n",
    "b = a.reshape(2,2)\n",
    "print(a)\n",
    "print(b)\n",
    "print('----')\n",
    "b[0,0] = -99\n",
    "print(a)"
   ]
  },
  {
   "cell_type": "markdown",
   "id": "56bb8cc3-2f59-4fad-b01d-40d4e773bf38",
   "metadata": {},
   "source": [
    "### Transposition\n",
    "\n",
    "Arrays can be *transposed*. When possible, the `transpose` functions returns a **view**."
   ]
  },
  {
   "cell_type": "code",
   "execution_count": 20,
   "id": "5bd9d6bf-7a6e-41ed-a67f-ef933ec4f1c2",
   "metadata": {},
   "outputs": [
    {
     "name": "stdout",
     "output_type": "stream",
     "text": [
      "The original array\n",
      "----\n",
      "[1. 2. 3. 4. 5. 6.]\n",
      "The view in 3x2 matrix\n",
      "----\n",
      "[[-99.   2.]\n",
      " [  3.   4.]]\n",
      "The transposition of the view\n",
      "----\n",
      "[inf inf inf inf]\n",
      "See how a was changed!\n",
      "----\n",
      "[-99.   2.   3.   4.   5.   6.]\n"
     ]
    }
   ],
   "source": [
    "a = np.linspace(1,6,6)\n",
    "print(\"The original array\")\n",
    "print('----')\n",
    "print(a)\n",
    "\n",
    "a_view = a.reshape(3,2)\n",
    "print(\"The view in 3x2 matrix\")\n",
    "print('----')\n",
    "print(b)\n",
    "\n",
    "a_view_stranspose = a_view.transpose()\n",
    "print(\"The transposition of the view\")\n",
    "print('----')\n",
    "print(c)\n",
    "\n",
    "a_view_stranspose[0,0] = -99\n",
    "print(\"See how a was changed!\")\n",
    "print('----')\n",
    "print(a)"
   ]
  },
  {
   "cell_type": "markdown",
   "id": "b8ab15bb-a85e-4d3a-aa0a-fee3ee4000ce",
   "metadata": {},
   "source": [
    "## Vectorization and Broadcasting\n",
    "\n",
    "### Vectorization\n",
    "Already discussed *vectorization* the ability for numpy to apply operations on all elements of an array. For example, multiplication:"
   ]
  },
  {
   "cell_type": "code",
   "execution_count": 21,
   "id": "b0f8dbe7-6b98-47d7-98fc-414c19ac5166",
   "metadata": {},
   "outputs": [
    {
     "name": "stdout",
     "output_type": "stream",
     "text": [
      "[2 3]\n",
      "[1 2]\n",
      "[2 6]\n"
     ]
    }
   ],
   "source": [
    "#multiplication\n",
    "a = np.array([2,3])\n",
    "print(a)\n",
    "b = np.array([1,2])\n",
    "print(b)\n",
    "print(a*b) #this gives me elemnent-wse multipication"
   ]
  },
  {
   "cell_type": "markdown",
   "id": "d9c21437-403d-48bc-8439-c9c88b5f817c",
   "metadata": {},
   "source": [
    "Or comparisons"
   ]
  },
  {
   "cell_type": "code",
   "execution_count": 22,
   "id": "b134889c-3297-4113-bddf-380fd8e821d0",
   "metadata": {},
   "outputs": [
    {
     "name": "stdout",
     "output_type": "stream",
     "text": [
      "[ True  True False False False]\n",
      "[-2 -1]\n",
      "[0 0 0 1 2]\n",
      "[0 0 0 1 2]\n"
     ]
    }
   ],
   "source": [
    "a = np.array([-2, -1, 0, 1, 2])\n",
    "\n",
    "is_less_zero = a < 0 #detect location of negative elements\n",
    "print(is_less_zero)\n",
    "\n",
    "#can *mask* the array\n",
    "print(a[is_less_zero]) #only prints elements smaller than zero\n",
    "\n",
    "#set all elements\n",
    "a[is_less_zero] = 0\n",
    "print(a)\n",
    "\n",
    "# or can do it super fast \"in place\"\n",
    "a = np.array([-2, -1, 0, 1, 2])\n",
    "a[a<0] = 0\n",
    "print(a)\n"
   ]
  },
  {
   "cell_type": "markdown",
   "id": "5d39fa04-3015-40d8-8123-fa1d15203aed",
   "metadata": {},
   "source": [
    "You can *vectorize* a custom function. More on this later."
   ]
  },
  {
   "cell_type": "markdown",
   "id": "549c19b5-3675-41e1-a5ac-487e6cabb0ce",
   "metadata": {},
   "source": [
    "### Broadcasting\n",
    "\n",
    "*Broadcasting* is what numpy does when two arrays have different shapes."
   ]
  },
  {
   "cell_type": "code",
   "execution_count": 24,
   "id": "4a37faf1-f71e-4c03-8db0-120706091e1e",
   "metadata": {},
   "outputs": [
    {
     "name": "stdout",
     "output_type": "stream",
     "text": [
      "[[1 2 3]\n",
      " [4 5 6]]\n",
      "(2, 3)\n",
      "----\n",
      "[10 20 30]\n",
      "(3,)\n",
      "----\n",
      "[[ 10  40  90]\n",
      " [ 40 100 180]]\n"
     ]
    }
   ],
   "source": [
    "a = np.array([[1,2,3],[4,5,6]])\n",
    "print(a)\n",
    "print(a.shape) #a 2x3\n",
    "print('----')\n",
    "\n",
    "b = np.array([10,20,30])\n",
    "print(b)\n",
    "print(b.shape) #a 1x3\n",
    "print('----')\n",
    "\n",
    "c = a*b #multiplication works, every row of a gets multiplied by b\n",
    "print(c)"
   ]
  },
  {
   "cell_type": "markdown",
   "id": "109b1a15-cbaa-4210-98ef-409b0124884b",
   "metadata": {},
   "source": [
    "## Doing Math with numpy arrays\n",
    "\n",
    "The power to broadcast enables numpy to support a wide range of matrix algebra routines, including...\n",
    "* Dot, Inner, Outer, and Cross products\n",
    "* Matrix multiplication "
   ]
  },
  {
   "cell_type": "code",
   "execution_count": 26,
   "id": "a1999a7d-2a98-4a58-8dfe-83a323bde6f5",
   "metadata": {},
   "outputs": [
    {
     "name": "stdout",
     "output_type": "stream",
     "text": [
      "[ 1  0 -3]\n",
      "[ 2 -2  5]\n",
      "Dot Product: -13\n",
      "Cross Product: [ -6 -11  -2]\n"
     ]
    }
   ],
   "source": [
    "#dot product\n",
    "a = np.array([1,0,-3])\n",
    "print(a)\n",
    "b = np.array([2,-2,5])\n",
    "print(b)\n",
    "\n",
    "dot_product = np.dot(a,b) #a@b or a.dot(b)\n",
    "cross_product = np.cross(a,b)\n",
    "print(f\"Dot Product: {dot_product}\")\n",
    "print(f\"Cross Product: {cross_product}\")"
   ]
  },
  {
   "cell_type": "code",
   "execution_count": 27,
   "id": "ae06b90e-f74e-494b-b32c-72cb20901fde",
   "metadata": {},
   "outputs": [
    {
     "name": "stdout",
     "output_type": "stream",
     "text": [
      "[[159.84375 167.8125  175.78125]\n",
      " [400.3125  420.9375  441.5625 ]\n",
      " [640.78125 674.0625  707.34375]]\n"
     ]
    }
   ],
   "source": [
    "a = np.linspace(1,10,9).reshape(3,3)\n",
    "b = np.linspace(20,30,9).reshape(3,3)\n",
    "c = np.matmul(a,b)\n",
    "print(c)"
   ]
  },
  {
   "cell_type": "markdown",
   "id": "5ed576dd-451d-4c61-896d-c51210174af1",
   "metadata": {},
   "source": [
    "NB: For arrays of dimension 2 or lower, matmul and dot will have identical outcomes.\n",
    "The broadcasting behavior is different for rank 3 or higher."
   ]
  },
  {
   "cell_type": "markdown",
   "id": "4e9df6f5-7f30-4c57-a520-acf97c3cf000",
   "metadata": {},
   "source": [
    "## Tolerance\n",
    "\n",
    "Computers store numbers as bytes. Bytes are fundamentally limited. So numbers that are formally irrational (pi, e, 1/3, etc.) must be stored in *truncated* form. This makes comparisons difficult and unweildy.\n",
    "\n",
    "Instead, in numerical work, we refer to **absolute** ($T_{abs}$) and **relative** ($T_{rel}$) tolerances.\n",
    "\n",
    "Two numbers `a` and `b` are considered the same if \n",
    "\n",
    "$$\n",
    "|a-b| <= T_{abs} + T_{rel} * |b|\n",
    "$$\n",
    "\n",
    "where $T_{abs} = 10^{-8}$ and $T_{rel} = 10^{-5}$ by default.\n",
    "\n",
    "Can check by using `np.isclose`, and use it to avoid singularities."
   ]
  },
  {
   "cell_type": "code",
   "execution_count": 28,
   "id": "7d3b287b-09b0-4605-8473-a06e0e754560",
   "metadata": {},
   "outputs": [
    {
     "name": "stdout",
     "output_type": "stream",
     "text": [
      "True\n"
     ]
    }
   ],
   "source": [
    "a = 1E-9\n",
    "is_close_to_zero = np.isclose(a,0) #is within1E-8 of zero, so this will be true\n",
    "print(is_close_to_zero)"
   ]
  },
  {
   "cell_type": "markdown",
   "id": "803aff51-19b4-44b6-83ff-25ab7d7bdfd8",
   "metadata": {},
   "source": [
    "## put it all together! (and practice plotting)"
   ]
  },
  {
   "cell_type": "code",
   "execution_count": 31,
   "id": "5aa852c4-f246-4ca6-9a35-c2d2757ea2c7",
   "metadata": {},
   "outputs": [
    {
     "data": {
      "text/plain": [
       "<matplotlib.legend.Legend at 0x289844046e0>"
      ]
     },
     "execution_count": 31,
     "metadata": {},
     "output_type": "execute_result"
    },
    {
     "data": {
      "image/png": "[encoded data removed]",
      "text/plain": [
       "<Figure size 640x480 with 1 Axes>"
      ]
     },
     "metadata": {},
     "output_type": "display_data"
    }
   ],
   "source": [
    "#let's define a functino\n",
    "def myfunc(x):\n",
    "    if np.isclose(x,0): #dodge the singularity\n",
    "        return 0.0\n",
    "    else:\n",
    "        return 1/x\n",
    "\n",
    "vfunc = np.vectorize(myfunc) #vectorize it\n",
    "\n",
    "x = np.linspace(-3,3,20) #x-axis\n",
    "y = vfunc(x)\n",
    "\n",
    "import matplotlib.pyplot as plt\n",
    "fig, ax = plt.subplots()\n",
    "ax.plot(x, y,\"o\", label=\"my special function\")\n",
    "ax.set_xlabel(\"x\")\n",
    "ax.set_ylabel(\"y\")\n",
    "\n",
    "is_gtr_zero = x>0\n",
    "ax.plot(x[is_gtr_zero], y[is_gtr_zero],'rx', label=\"Points with x>0\")\n",
    "ax.legend()"
   ]
  },
  {
   "cell_type": "code",
   "execution_count": null,
   "id": "a9f58712-4d8f-426c-b205-63a7794b9b0d",
   "metadata": {},
   "outputs": [],
   "source": []
  }
 ],
 "metadata": {
  "kernelspec": {
   "display_name": "Python 3 (ipykernel)",
   "language": "python",
   "name": "python3"
  },
  "language_info": {
   "codemirror_mode": {
    "name": "ipython",
    "version": 3
   },
   "file_extension": ".py",
   "mimetype": "text/x-python",
   "name": "python",
   "nbconvert_exporter": "python",
   "pygments_lexer": "ipython3",
   "version": "3.12.5"
  }
 },
 "nbformat": 4,
 "nbformat_minor": 5
}
