{
 "cells": [
  {
   "cell_type": "markdown",
   "id": "369d5c7a-97a6-4e47-a92a-caf29c891654",
   "metadata": {},
   "source": [
    "# Lecture 8:  2D and 3D plotting, Colorbars, Decorations\n"
   ]
  },
  {
   "cell_type": "markdown",
   "id": "f1d8da5f-c3f0-4a71-851f-10887a5b4f11",
   "metadata": {},
   "source": [
    "1. Linear and log scales, grid lines\n",
    "2. 2D plots and colorbars\n",
    "3. Wireframes\n",
    "4. Contours\n",
    "5. Adding text to a plot (annotation)"
   ]
  },
  {
   "cell_type": "markdown",
   "id": "880db416-e88b-471a-8715-6612ab7a7a38",
   "metadata": {},
   "source": [
    "## Linear and Log Scales, Grid Lines\n",
    "\n",
    "Sometimes data spans many orders of magnitude, and we want to plot with logarithmic axes. Or, plotting with logarithmic axes demonstrates new insights.\n",
    "\n",
    "For example, the \"Law of Radioactive Decay\" says the number $N$ of radioactive particles left after a time $t$ depends on the decay rate $\\lambda$:\n",
    "$$\n",
    "N = N_0 e^{-\\lambda t}\n",
    "$$\n",
    "Let's plot this using both a linear and log scale. And also use grid lines.\n"
   ]
  },
  {
   "cell_type": "code",
   "execution_count": null,
   "id": "598faeae-aab9-463f-a3c2-8c86f477db95",
   "metadata": {},
   "outputs": [],
   "source": []
  },
  {
   "cell_type": "markdown",
   "id": "fe3ed3cc-3678-4e3f-9bf1-8ad4e0b81b4a",
   "metadata": {},
   "source": [
    "## 2D color plots\n",
    "\n",
    "Sometimes we want to visualize a complex function in 2D or 3D space. For example, a 2D Gaussian:"
   ]
  },
  {
   "cell_type": "code",
   "execution_count": null,
   "id": "e2a6c895-ff33-49db-81e3-d1f56e86e57f",
   "metadata": {},
   "outputs": [],
   "source": []
  },
  {
   "cell_type": "markdown",
   "id": "03fb91dc-be0a-4ac3-998a-5ee03a653196",
   "metadata": {},
   "source": [
    "## Surfaces\n",
    "\n",
    "Other times, we'd rather see the object in 3D.\n"
   ]
  },
  {
   "cell_type": "code",
   "execution_count": null,
   "id": "a1b07eb5-9662-4e80-bc63-83161bbf3ae2",
   "metadata": {},
   "outputs": [],
   "source": []
  },
  {
   "cell_type": "markdown",
   "id": "644495fe-9005-4e81-a353-e00467ee400a",
   "metadata": {},
   "source": [
    "## Contours\n",
    "\n",
    "Last but not least, we may want to see *contours*. You can control where lines appear with the \"levels\" argument."
   ]
  },
  {
   "cell_type": "code",
   "execution_count": null,
   "id": "14a540f7-efc2-43d4-ac8a-8255a66ec9f5",
   "metadata": {},
   "outputs": [],
   "source": []
  },
  {
   "cell_type": "markdown",
   "id": "f7701e7f-4331-4ce9-87e6-503e02124a61",
   "metadata": {},
   "source": [
    "## Annotation\n",
    "\n",
    "You can *annotate* plots by using `ax.text` or `ax.annotate`. Text is good for simple words, while annotate is good for more sophisticated things, including arrows, circles, boxes, etc.\n",
    "\n",
    "Let's add some words to our plot above."
   ]
  },
  {
   "cell_type": "code",
   "execution_count": null,
   "id": "f930c716-7376-4da2-9e24-727431d041e8",
   "metadata": {},
   "outputs": [],
   "source": []
  }
 ],
 "metadata": {
  "kernelspec": {
   "display_name": "Python 3 (ipykernel)",
   "language": "python",
   "name": "python3"
  },
  "language_info": {
   "codemirror_mode": {
    "name": "ipython",
    "version": 3
   },
   "file_extension": ".py",
   "mimetype": "text/x-python",
   "name": "python",
   "nbconvert_exporter": "python",
   "pygments_lexer": "ipython3",
   "version": "3.12.5"
  }
 },
 "nbformat": 4,
 "nbformat_minor": 5
}
