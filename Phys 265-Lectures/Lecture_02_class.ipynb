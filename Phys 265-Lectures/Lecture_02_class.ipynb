{
 "cells": [
  {
   "cell_type": "markdown",
   "id": "395349a4-108a-41f8-8033-b916baf64bf7",
   "metadata": {
    "editable": true,
    "slideshow": {
     "slide_type": ""
    },
    "tags": []
   },
   "source": [
    "# Lecture 2:  Comparison, Logic, Strings, [lists]\n",
    "\n",
    "As always, references to **Hill** will be made parenthetically\n"
   ]
  },
  {
   "cell_type": "markdown",
   "id": "d3136743-785a-4fa4-81a8-96ab97bb66b1",
   "metadata": {
    "editable": true,
    "slideshow": {
     "slide_type": ""
    },
    "tags": []
   },
   "source": [
    "# Today: 1/31\n",
    "\n",
    "Concepts covering today :\n",
    "\n",
    "1. Jupyter notebook, console, variable explorer, tab completion, history, help\n",
    "2. Resetting the kernel (when do we need it?)\n",
    "3. int, float, str, complex, bool\n",
    "4. basic arithmetic (Tab. 2.1), operator precedence (Tab. 2.2), comparisons and logic (Tab. 2.5)\n",
    "5. input() function, convert between types\n",
    "6. strings, string indexing, escape sequences\n",
    "7. string slicing\n",
    "8. print() function\n",
    "9. running scripts. magic functions: %pwd, %ls, %more, %cd .., %run"
   ]
  },
  {
   "cell_type": "markdown",
   "id": "c750859c-7efc-4818-b4d5-0c987ea5f66f",
   "metadata": {
    "editable": true,
    "slideshow": {
     "slide_type": ""
    },
    "tags": []
   },
   "source": [
    "# Exercises"
   ]
  },
  {
   "cell_type": "markdown",
   "id": "0017fedc-1a7d-4ec1-bcbb-7539f8df9e39",
   "metadata": {},
   "source": [
    "### 1. Jupyter = **Ju**lia + **Pyt**hon + **R**"
   ]
  },
  {
   "cell_type": "markdown",
   "id": "59ece2fe-8592-495e-a3f3-020f3d764a99",
   "metadata": {},
   "source": [
    "In **Homework1** we suggested you to change a few settings.\n",
    "Number 6 is debatable, number 7 remains essential.\n",
    "\n",
    "Many ways to get here, but **Settings -> Settings Editor** keeps it in a <tab>\n",
    "\n",
    "6. **Settings -> Code Completion -> Enable Autocompletion**   ??? turn off autocompletion, so only TAB will need to be used. Otherwise it keeps popping up.\n",
    "8. **Settings → Document Manager →  Autosave Documents**  automatic saving of your work\n",
    "\n"
   ]
  },
  {
   "cell_type": "markdown",
   "id": "9b31290e-21fe-40ad-a26b-ae4e230becdb",
   "metadata": {},
   "source": [
    "### 2. Window Layout\n",
    "\n",
    "JupyterLab Desktop (JLD) has many windows, if you want to focus on coding, \n",
    "\n",
    "The **View -> Appearance** has a few interesting options to focus on writing code:\n",
    "\n",
    "* Simple Interface (no TABs at the top) - or the Simple** slider in lower left     ( Shift-Ctrl-D )\n",
    "* Presentation Mode (for your instructor)\n",
    "* Show Left Sidebar (Ctrl-B)\n",
    "* Toggle File Browser (Shift-Ctrl-F)\n",
    "\n",
    "From the top menu:\n",
    "\n",
    "* from top level menu) UI mode -> zen mode"
   ]
  },
  {
   "cell_type": "markdown",
   "id": "b88eb7eb-b392-4fc5-b055-3e79e574a515",
   "metadata": {},
   "source": [
    "### 3. Create examples of int, float, complex, str, and bool. \n",
    "\n",
    "If your JLD supports it, confirm existence with variable inspector. (right-click **Open Variable Inspector**)\n",
    "\n",
    "It seems JDL V4.2.5-1 on linux is ok. Pick it from the highest level menu (->About), not (Help->About) since that gives the version of JupyterLab !\n",
    "\n",
    "\n",
    "1. Are variable names case sensitive?\n",
    "2. Multiply two positive integer variables, then multiply by a float.\n",
    "3. Divide two integers with floating point division (/) and integer division (//).\n",
    "4. Exponential notation for floats: a = 1e6.\n",
    "5. Complex\n",
    "6. String (str) - python allows matching  by  ' or \"  - why ?\n",
    "7. Boolean (bool)\n",
    "8. Nothing, nada\n",
    "\n",
    "First, create your examples, lets call them a,b,c,...\n"
   ]
  },
  {
   "cell_type": "code",
   "execution_count": null,
   "id": "69e7349a-0159-4af9-b77f-2198af10feb3",
   "metadata": {},
   "outputs": [],
   "source": []
  },
  {
   "cell_type": "code",
   "execution_count": null,
   "id": "7070093e-a2d2-4a64-8efe-5f03023d57b1",
   "metadata": {},
   "outputs": [],
   "source": []
  },
  {
   "cell_type": "code",
   "execution_count": null,
   "id": "c71cdd58-c89d-479c-bab6-1611b87fc7b0",
   "metadata": {},
   "outputs": [],
   "source": []
  },
  {
   "cell_type": "code",
   "execution_count": null,
   "id": "8d4184dc-b735-4129-b752-aef71173c8ba",
   "metadata": {},
   "outputs": [],
   "source": []
  },
  {
   "cell_type": "code",
   "execution_count": null,
   "id": "5c232f7d-d0e7-4fa3-a676-f12c0d27e930",
   "metadata": {},
   "outputs": [],
   "source": []
  },
  {
   "cell_type": "code",
   "execution_count": null,
   "id": "9ee3afb3-2138-4aaa-a369-b7e58bca5368",
   "metadata": {},
   "outputs": [],
   "source": []
  },
  {
   "cell_type": "code",
   "execution_count": null,
   "id": "3fdee46d-0afd-4b0f-8cd1-65b0cb2ffffb",
   "metadata": {},
   "outputs": [],
   "source": []
  },
  {
   "cell_type": "code",
   "execution_count": null,
   "id": "c75cd653-5b81-4b80-b8f5-57b537641334",
   "metadata": {},
   "outputs": [],
   "source": []
  },
  {
   "cell_type": "markdown",
   "id": "17b0db8a-2568-4fbb-81cc-1bff5d7e8972",
   "metadata": {},
   "source": [
    "###  4. Modulus operator: \n",
    "\n",
    "11 % 4.\n"
   ]
  },
  {
   "cell_type": "code",
   "execution_count": null,
   "id": "b7e0ceb6-323f-4c9e-a6d7-65755c78b655",
   "metadata": {},
   "outputs": [],
   "source": []
  },
  {
   "cell_type": "code",
   "execution_count": null,
   "id": "d1a15a2e-39ec-4a86-b854-1f56364fdb61",
   "metadata": {},
   "outputs": [],
   "source": []
  },
  {
   "cell_type": "markdown",
   "id": "bb56b090-7336-4b3b-9504-dd99122bfffc",
   "metadata": {},
   "source": [
    "### 5. Operator precedence. \n",
    "\n",
    "1. Use parenthesis to clarify in case there could be doubt\n",
    "2. **    (in some languages you might see ^, e.g.    3^2 = 9)\n",
    "3. \\* and /\n",
    "4. \\+ and \\-\n",
    "\n",
    "(2+3)*3**2"
   ]
  },
  {
   "cell_type": "code",
   "execution_count": null,
   "id": "78445fa6-25e2-43e3-9637-6f4b365345e3",
   "metadata": {},
   "outputs": [],
   "source": []
  },
  {
   "cell_type": "code",
   "execution_count": null,
   "id": "06ab9886-b90c-4b05-bc00-1e3f95a4ee43",
   "metadata": {},
   "outputs": [],
   "source": []
  },
  {
   "cell_type": "code",
   "execution_count": null,
   "id": "ca222241-4059-4300-b4d5-73674616893d",
   "metadata": {},
   "outputs": [],
   "source": []
  },
  {
   "cell_type": "markdown",
   "id": "6a618462-65aa-4000-90ce-7aa0560d9af0",
   "metadata": {},
   "source": [
    "See https://www.w3schools.com/python/python_operators.asp for more operator tricks\n",
    "\n",
    "(and many more python coding examples)"
   ]
  },
  {
   "cell_type": "markdown",
   "id": "d5b657dd-4fc7-46c1-8cb1-2c2254b4051b",
   "metadata": {},
   "source": [
    "### 6. IPython tricks: \n",
    "\n",
    "* TAB completion\n",
    "* ? or help(obj) for help.\n",
    "* (JLD only) launch **Show Contextual Help** now click on functions\n",
    "* Try: import math; math.cos?.\n",
    "* Try: mystr = ’gotcha’; mystr.*?\n",
    "\n"
   ]
  },
  {
   "cell_type": "code",
   "execution_count": null,
   "id": "545c350b-f045-4f83-afe4-342daa909608",
   "metadata": {},
   "outputs": [],
   "source": []
  },
  {
   "cell_type": "code",
   "execution_count": null,
   "id": "ab5f323e-48ca-4187-9c80-f26e7e65f8fd",
   "metadata": {},
   "outputs": [],
   "source": []
  },
  {
   "cell_type": "code",
   "execution_count": null,
   "id": "d8617f1b-e63c-4c14-81c8-c1cdfac54203",
   "metadata": {},
   "outputs": [],
   "source": []
  },
  {
   "cell_type": "markdown",
   "id": "7882fe0b-6301-4fda-8c04-691e7b0eba4b",
   "metadata": {},
   "source": [
    "###  7. IPython magic functions\n",
    "\n",
    "\n",
    "Use IPython magic functions: %pwd, %ls, %more, %rm, %cd, %run, %time, %%time\n",
    "\n",
    "[Jupyter Notebook Magic Methods Cheat Sheet](https://www.kdnuggets.com/jupyter-notebook-magic-methods-cheat-sheet)  - notice this link doesn't show up if hover over it, isn't that dangerous?\n",
    "\n",
    "I created a file **hello.py** with the following contents:\n",
    "```\n",
    "      print(\"hello from python\")\n",
    "```\n",
    "but we can also do this with a piece of python code, as shown in the next (markdown) cell"
   ]
  },
  {
   "cell_type": "markdown",
   "id": "dd319b65-00a6-44af-9bfc-c5a99c233b10",
   "metadata": {},
   "source": [
    "###  execute this as code cell\n",
    "\n",
    "f = open('hello.py','w')\n",
    "f.write('print(\"hello from python3\")')\n",
    "f.close()\n",
    "print(\"I have written 'hello.py' for you\")\n",
    "\n",
    "###  obfuscated code contest?"
   ]
  },
  {
   "cell_type": "markdown",
   "id": "c9acb5ab-319f-4f6d-aadd-60d8c2e1282e",
   "metadata": {},
   "source": [
    "### testing running if the file does not exist ?\n",
    "%rm hello.py\n"
   ]
  },
  {
   "cell_type": "code",
   "execution_count": null,
   "id": "5ba0651f-cd9c-4f28-9d7a-32242f2b3c6c",
   "metadata": {},
   "outputs": [],
   "source": []
  },
  {
   "cell_type": "code",
   "execution_count": null,
   "id": "dcf96277-52f1-4253-b7b4-fccaf60317b0",
   "metadata": {},
   "outputs": [],
   "source": []
  },
  {
   "cell_type": "markdown",
   "id": "19d7aab1-4fdd-4f51-b605-24c78cafa766",
   "metadata": {},
   "source": [
    "We can also run a python notebook, one that we've created before!"
   ]
  },
  {
   "cell_type": "code",
   "execution_count": null,
   "id": "031c5b0c-9049-4283-87cc-7364968d4e1f",
   "metadata": {},
   "outputs": [],
   "source": []
  },
  {
   "cell_type": "code",
   "execution_count": null,
   "id": "c51e31c7-1b76-4d9a-af20-3088c644e98a",
   "metadata": {},
   "outputs": [],
   "source": []
  },
  {
   "cell_type": "code",
   "execution_count": null,
   "id": "eea89095-18ef-4c0f-bd82-9db57087edbd",
   "metadata": {},
   "outputs": [],
   "source": []
  },
  {
   "cell_type": "code",
   "execution_count": null,
   "id": "85e29033-519a-4233-8767-d3eb7c2e748d",
   "metadata": {},
   "outputs": [],
   "source": []
  },
  {
   "cell_type": "code",
   "execution_count": null,
   "id": "98acdef5-0dcb-4051-8940-0cc2c97d737f",
   "metadata": {},
   "outputs": [],
   "source": []
  },
  {
   "cell_type": "code",
   "execution_count": null,
   "id": "d2fec48d-e0f4-45e2-9637-ddc79811bd6e",
   "metadata": {},
   "outputs": [],
   "source": []
  },
  {
   "cell_type": "markdown",
   "id": "41571b55-91bf-4585-a8c7-ede6836f8d85",
   "metadata": {},
   "source": [
    "### 8. input() function. Cast the result as int or float.\n",
    "\n",
    "input() can be used for interactive input, it returns a string!\n",
    "\n",
    "Use the (function) **object name with a ?? to find more help**\n",
    "\n",
    "Another form of help is **the function help()** itself on the object\n",
    "\n",
    "Note there are some subtle differences between these two types of help!\n",
    "\n",
    "\n"
   ]
  },
  {
   "cell_type": "code",
   "execution_count": null,
   "id": "1503f68b-4679-4e78-9373-ab038831b790",
   "metadata": {},
   "outputs": [],
   "source": []
  },
  {
   "cell_type": "code",
   "execution_count": null,
   "id": "ab79adf6-c4a0-4c46-9d09-a647d8768d26",
   "metadata": {},
   "outputs": [],
   "source": []
  },
  {
   "cell_type": "code",
   "execution_count": null,
   "id": "7bd4b2d6-c2e2-413f-a3d2-61b15557e19f",
   "metadata": {},
   "outputs": [],
   "source": []
  },
  {
   "cell_type": "code",
   "execution_count": null,
   "id": "67dd9ae1-b79f-41b1-a802-75b1f0572a46",
   "metadata": {},
   "outputs": [],
   "source": []
  },
  {
   "cell_type": "markdown",
   "id": "a2596e85-e147-4ad4-8acc-2b2200d4cc43",
   "metadata": {},
   "source": [
    "### 9. reset the kernel.\n",
    "\n",
    "What is the kernel? Why do we need to reset the kernel?\n"
   ]
  },
  {
   "cell_type": "code",
   "execution_count": null,
   "id": "077ac274-1e14-4a12-b0ea-b1f2002e3df0",
   "metadata": {},
   "outputs": [],
   "source": []
  },
  {
   "cell_type": "markdown",
   "id": "20f9e0b7-d3d6-4525-81d5-8ea961d0f4d5",
   "metadata": {},
   "source": [
    "### 10. boolean variables and logic: and, or, not\n",
    "\n",
    "Example of conditional execution i.e \"if\" statement\n",
    "```\n",
    "logical operators\n",
    "==   'equal'\n",
    "!=   'not equal'\n",
    "<    'less than'\n",
    ">    'greater than'\n",
    "<=   'less than or equal'\n",
    ">=   'greater than or equal'\n",
    "```\n",
    "can also use \n",
    "```\n",
    "and\n",
    "or\n",
    "not\n",
    "```\n"
   ]
  },
  {
   "cell_type": "markdown",
   "id": "e1303c01-728b-47e6-9516-be84abfe7d8f",
   "metadata": {},
   "source": [
    "### 11. Operator module\n",
    "\n",
    "things to try\n",
    "```\n",
    "operator.add(1.1,2.2)\n",
    "operator.or_(1,3)\n",
    "operator.xor(1,3)\n",
    "1^3\n",
    "```\n"
   ]
  },
  {
   "cell_type": "code",
   "execution_count": null,
   "id": "8a1f2892-a02b-4a56-8c36-dc33e8aeb656",
   "metadata": {},
   "outputs": [],
   "source": []
  },
  {
   "cell_type": "code",
   "execution_count": null,
   "id": "cfb5f47c-09b5-4c7e-b3c0-902273df017c",
   "metadata": {},
   "outputs": [],
   "source": []
  },
  {
   "cell_type": "code",
   "execution_count": null,
   "id": "27a22189-a6c8-463d-9cda-94553f9742f2",
   "metadata": {},
   "outputs": [],
   "source": []
  },
  {
   "cell_type": "markdown",
   "id": "db30169d-34ec-42b5-904a-534309982b05",
   "metadata": {},
   "source": [
    "### 12. String operations\n",
    "\n",
    "* Define a str variable. \n",
    "* Get a list of str methods, try applying one or two. \n",
    "* Add two str together.\n"
   ]
  },
  {
   "cell_type": "code",
   "execution_count": null,
   "id": "578fe0b3-ac79-43f5-aa73-1f73a2ea2873",
   "metadata": {},
   "outputs": [],
   "source": []
  },
  {
   "cell_type": "code",
   "execution_count": null,
   "id": "b010bb20-3585-4952-b547-32ec861cad76",
   "metadata": {},
   "outputs": [],
   "source": []
  },
  {
   "cell_type": "markdown",
   "id": "9da50f95-7abd-431e-bdcd-24d146736839",
   "metadata": {},
   "source": [
    "### 13 string escape sequences: \\\\n, \\\\t, \\\\’"
   ]
  },
  {
   "cell_type": "code",
   "execution_count": null,
   "id": "04577f47-3500-406b-8b1e-af2bf33845b9",
   "metadata": {},
   "outputs": [],
   "source": []
  },
  {
   "cell_type": "markdown",
   "id": "496cd7e3-2a80-4fed-bc77-89b78701b664",
   "metadata": {},
   "source": [
    "### 14. string slicing: start and stop. \n",
    "\n",
    "Define a nice long string\n",
    "```\n",
    "mystr = 'abcdefghijklmnopqrstuvwxyz'\n",
    "```\n",
    "\n",
    "* mystr[start:stop]. \n",
    "* mystr[start:]\n",
    "* mystr[:stop]\n",
    "\n",
    "With some logic the start and stop can be negative. negative means start from the back."
   ]
  },
  {
   "cell_type": "code",
   "execution_count": null,
   "id": "15f98bd0-ccf4-4c82-a3de-430ba03f59db",
   "metadata": {},
   "outputs": [],
   "source": []
  },
  {
   "cell_type": "markdown",
   "id": "0627ee79-225d-4910-8bef-fd4eb4e75a52",
   "metadata": {},
   "source": [
    "### 15. string slicing with a stride: \n",
    "\n",
    "* mystr[start:stop:stride]\n",
    "* mystr[start::stride]\n",
    "* mystr[:stop:stride]\n",
    "* mystr[::stride]\n"
   ]
  },
  {
   "cell_type": "code",
   "execution_count": null,
   "id": "6ed27186-9b3e-4cc3-a63d-ceec5e29bce8",
   "metadata": {},
   "outputs": [],
   "source": []
  },
  {
   "cell_type": "code",
   "execution_count": null,
   "id": "95f78d7c-3317-4f8f-a69c-568ee346779a",
   "metadata": {},
   "outputs": [],
   "source": []
  },
  {
   "cell_type": "markdown",
   "id": "cff98e5a-30d5-46f5-806f-17c9a5562a9f",
   "metadata": {},
   "source": [
    "### 16. print() function"
   ]
  },
  {
   "cell_type": "code",
   "execution_count": null,
   "id": "32e4cb13-7911-4612-a184-8f87ea9219d1",
   "metadata": {},
   "outputs": [],
   "source": []
  },
  {
   "cell_type": "code",
   "execution_count": null,
   "id": "6970ed25-6aa4-44a6-af4d-9858b8b1cabc",
   "metadata": {},
   "outputs": [],
   "source": []
  },
  {
   "cell_type": "code",
   "execution_count": null,
   "id": "778770ea-b916-42ee-965a-a8a80c179682",
   "metadata": {},
   "outputs": [],
   "source": []
  },
  {
   "cell_type": "markdown",
   "id": "1bd0bd58-4acb-4a0e-b842-37faad8749d2",
   "metadata": {},
   "source": [
    "## 17. list\n",
    "\n",
    "List is an ordered (0,1,2....) collection of python objects, using [] to contain them\n",
    "\n",
    "* lists can contain any mix of types\n",
    "* lists can contain lists (etc.)\n"
   ]
  },
  {
   "cell_type": "code",
   "execution_count": null,
   "id": "3f187c8f-9227-41c4-9e79-ecf3c28faf86",
   "metadata": {},
   "outputs": [],
   "source": []
  },
  {
   "cell_type": "code",
   "execution_count": null,
   "id": "a93171ca-764c-4760-b7b6-444c5a9b7085",
   "metadata": {},
   "outputs": [],
   "source": []
  },
  {
   "cell_type": "markdown",
   "id": "ad111c17-52a8-408b-8a9d-59cdcbd2d8d2",
   "metadata": {},
   "source": [
    "## Your notebook should be reproducable\n",
    "\n",
    "If you **restart the kernel and run all cells** the results should be consistent.\n",
    "\n",
    "NOTE:  the input() command will wait for input !!\n"
   ]
  },
  {
   "cell_type": "code",
   "execution_count": null,
   "id": "dc6955c4-df67-4778-9665-4c9c1c4fa95a",
   "metadata": {},
   "outputs": [],
   "source": []
  },
  {
   "cell_type": "code",
   "execution_count": null,
   "id": "a97a3288-c133-4a52-818e-7ad35aca5e88",
   "metadata": {},
   "outputs": [],
   "source": []
  }
 ],
 "metadata": {
  "kernelspec": {
   "display_name": "Python 3 (ipykernel)",
   "language": "python",
   "name": "python3"
  },
  "language_info": {
   "codemirror_mode": {
    "name": "ipython",
    "version": 3
   },
   "file_extension": ".py",
   "mimetype": "text/x-python",
   "name": "python",
   "nbconvert_exporter": "python",
   "pygments_lexer": "ipython3",
   "version": "3.12.5"
  },
  "widgets": {
   "application/vnd.jupyter.widget-state+json": {
    "state": {},
    "version_major": 2,
    "version_minor": 0
   }
  }
 },
 "nbformat": 4,
 "nbformat_minor": 5
}
