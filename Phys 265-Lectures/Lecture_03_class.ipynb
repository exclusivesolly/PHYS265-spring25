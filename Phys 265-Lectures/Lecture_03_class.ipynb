{
 "cells": [
  {
   "cell_type": "markdown",
   "id": "3f176031-cd2e-4fa5-a158-6fc21432939a",
   "metadata": {},
   "source": [
    "# Lecture 3: str format, lists and loops, control flow"
   ]
  },
  {
   "cell_type": "markdown",
   "id": "017d7961-9176-446f-b141-a9baf86c8226",
   "metadata": {},
   "source": [
    "## Today: 2/3\n",
    "\n",
    "\n",
    "1. printing\n",
    "2. string formatting with .format() and with f-strings.  (Sec. 2.3)\n",
    "3. Lists (Tab. 2.12), .append() and .pop()\n",
    "4. Gaining access to individual list items via indexing.\n",
    "5. **for** loops (iteration); enumerate() and range() functions\n",
    "6. **if, elif, else**\n",
    "7. **while** loop\n"
   ]
  },
  {
   "cell_type": "markdown",
   "id": "a7bcab72-fc82-4b93-90f2-275368334bab",
   "metadata": {},
   "source": [
    "# Printing,  str format\n",
    "\n",
    "printing and string formatting are closely related, the latter can be done independently:\n",
    "```\n",
    "        mesg = \"hello python!\"\n",
    "        print(mesg)\n",
    "```"
   ]
  },
  {
   "cell_type": "markdown",
   "id": "fdbc707a-4353-4c56-bf98-e989e27eb009",
   "metadata": {},
   "source": [
    "### Printing - style 1 (original)\n",
    "\n",
    "print() is a [python builtin function](https://www.w3schools.com/python/python_ref_functions.asp)\n",
    "like abs()  \n"
   ]
  },
  {
   "cell_type": "code",
   "execution_count": 1,
   "id": "f3f42116-5db2-4e2b-b1f6-5d27b6346991",
   "metadata": {},
   "outputs": [],
   "source": [
    "a = 1\n",
    "b = 2.3"
   ]
  },
  {
   "cell_type": "code",
   "execution_count": 2,
   "id": "ce3d12aa-5b8f-4fa5-b204-0fe6d9d71f21",
   "metadata": {},
   "outputs": [
    {
     "name": "stdout",
     "output_type": "stream",
     "text": [
      "1 2.3\n",
      "a= 1 b= 2.3\n"
     ]
    }
   ],
   "source": [
    "print(a,b)\n",
    "print(\"a=\",a,\"b=\", b)"
   ]
  },
  {
   "cell_type": "code",
   "execution_count": 4,
   "id": "c9f740fd-eed7-496e-821c-5ea90e85cca9",
   "metadata": {},
   "outputs": [
    {
     "name": "stdout",
     "output_type": "stream",
     "text": [
      "a=1 b=2.3\n"
     ]
    }
   ],
   "source": [
    "fmt = \"a=%d b=%g\" % (a,b)\n",
    "print(fmt) #confused"
   ]
  },
  {
   "cell_type": "code",
   "execution_count": 6,
   "id": "7fbd8599-fe9a-4719-b152-c6664f40afba",
   "metadata": {},
   "outputs": [
    {
     "name": "stdout",
     "output_type": "stream",
     "text": [
      "1,2.3|1,2.3|"
     ]
    }
   ],
   "source": [
    "print(a,b,sep=',', end='|')\n",
    "print(a,b,sep=',', end='|')"
   ]
  },
  {
   "cell_type": "markdown",
   "id": "43ae7999-292f-4db2-b7c2-b7909643f841",
   "metadata": {},
   "source": [
    "Use format codes such as :6.2f or :12.2e or :10d to tell python how many digits to print."
   ]
  },
  {
   "cell_type": "code",
   "execution_count": 9,
   "id": "22681860-8f9e-4cda-b964-cef162ee2c58",
   "metadata": {},
   "outputs": [
    {
     "name": "stdout",
     "output_type": "stream",
     "text": [
      "a=0001 b= 2.300\n"
     ]
    }
   ],
   "source": [
    "print(\"a=%04d b=%6.3f\" % (a,b))"
   ]
  },
  {
   "cell_type": "markdown",
   "id": "82c980ee-80e2-49ec-9272-c91ef92ba40d",
   "metadata": {},
   "source": [
    "### Printing - style 2 (str format)\n"
   ]
  },
  {
   "cell_type": "code",
   "execution_count": 11,
   "id": "51e9dfa8-67b4-4532-a682-da069795335f",
   "metadata": {},
   "outputs": [
    {
     "name": "stdout",
     "output_type": "stream",
     "text": [
      "a=1  b=2.3\n",
      "a=2.3  b=1\n"
     ]
    }
   ],
   "source": [
    "print(\"a={}  b={}\".format(a,b))\n",
    "print(\"a={}  b={}\".format(b,a))"
   ]
  },
  {
   "cell_type": "code",
   "execution_count": 13,
   "id": "a588db32-3b86-49c9-8c3d-3b0484cf2b76",
   "metadata": {},
   "outputs": [
    {
     "name": "stdout",
     "output_type": "stream",
     "text": [
      "a= 1 b=2.3\n"
     ]
    }
   ],
   "source": [
    "print(\"a= {a1} b={b1}\".format(a1=a, b1=b))"
   ]
  },
  {
   "cell_type": "code",
   "execution_count": 14,
   "id": "5d4bbada-fb91-4fe9-8e7f-4748f61304b0",
   "metadata": {},
   "outputs": [
    {
     "name": "stdout",
     "output_type": "stream",
     "text": [
      "a_f00=4.32 b_f00=123\n"
     ]
    }
   ],
   "source": [
    "print(\"a_f00={a} b_f00={b}\".format(b=123, a=4.32))"
   ]
  },
  {
   "cell_type": "markdown",
   "id": "5e8b920b-5b8d-4c32-87aa-c4ee171559b0",
   "metadata": {},
   "source": [
    "### Printing - style 3 (f-string)\n",
    "\n",
    "Introduced in Python 3.6, but kind of a short-hand of the **str format**\n"
   ]
  },
  {
   "cell_type": "code",
   "execution_count": 16,
   "id": "3495134f-2f50-4087-9fd7-ffaf432557e8",
   "metadata": {},
   "outputs": [
    {
     "name": "stdout",
     "output_type": "stream",
     "text": [
      " a=0001 b= 2.300 \n"
     ]
    }
   ],
   "source": [
    "print(f\" a={a:04d} b={b:6.3f} \") #purpose of the f-strings, can't use percent sign"
   ]
  },
  {
   "cell_type": "code",
   "execution_count": 22,
   "id": "1315173d-e593-4f36-8d38-124b3355fb8a",
   "metadata": {},
   "outputs": [
    {
     "name": "stdout",
     "output_type": "stream",
     "text": [
      " b = 2.3000E+00\n"
     ]
    }
   ],
   "source": [
    "print(f\" b = {b:4.4E}\")"
   ]
  },
  {
   "cell_type": "code",
   "execution_count": null,
   "id": "c1d09a3e-f76f-4345-884c-89ae834a0dff",
   "metadata": {},
   "outputs": [],
   "source": []
  },
  {
   "cell_type": "markdown",
   "id": "414f21c6-1c8d-493c-8710-a2c22e67097f",
   "metadata": {},
   "source": [
    "### Formatting Types\n",
    "\n",
    "Mostly taken from the C language\n",
    "\n",
    "```\n",
    ":<      Left aligns the result (within the available space)\n",
    ":>      Right aligns the result (within the available space)\n",
    ":^      Center aligns the result (within the available space)\n",
    ":=      Places the sign to the left most position\n",
    ":+      Use a plus sign to indicate if the result is positive or negative\n",
    ":-      Use a minus sign for negative values only\n",
    ":       Use a space to insert an extra space before positive numbers\n",
    "        (and a minus sign before negative numbers)\n",
    ":,      Use a comma as a thousand separator\n",
    ":_      Use a underscore as a thousand separator\n",
    ":b      Binary format\n",
    ":c      Converts the value into the corresponding unicode character\n",
    ":d      Decimal format\n",
    ":e      Scientific format, with a lower case e\n",
    ":E      Scientific format, with an upper case E\n",
    ":f      Fix point number format\n",
    ":F      Fix point number format, in uppercase format (show inf and nan as INF and NAN)\n",
    ":g      General format\n",
    ":G      General format (using a upper case E for scientific notations)\n",
    ":o      Octal format\n",
    ":x      Hex format, lower case\n",
    ":X      Hex format, upper case\n",
    ":n      Number format\n",
    ":%      Percentage format\n",
    "\n",
    "```\n",
    "see also https://www.w3schools.com/python/ref_string_format.asp\n"
   ]
  },
  {
   "cell_type": "markdown",
   "id": "cc752494-741c-4d64-a9ab-ca1c963d1449",
   "metadata": {},
   "source": [
    "Note: format codes in C and style-1 have a % sign. str format and f-string use the : sign !!\n",
    "```\n",
    "   fortran     F6.2 \n",
    "   C           %6.2f \n",
    "   python      :6.2f\n",
    "```"
   ]
  },
  {
   "cell_type": "code",
   "execution_count": null,
   "id": "9719b0d5-def8-4ce8-9860-1fcbcd66b4ba",
   "metadata": {},
   "outputs": [],
   "source": []
  },
  {
   "cell_type": "markdown",
   "id": "8fa4ef92-f787-4ccb-a137-26c40145ed99",
   "metadata": {},
   "source": [
    "\n",
    "\n",
    "\n"
   ]
  },
  {
   "cell_type": "markdown",
   "id": "16b66059-f0be-489b-b04e-dd2b82c92f4b",
   "metadata": {},
   "source": [
    "# Lists and Loops\n",
    "\n",
    "my_list = [1,2,3]\n",
    "\n",
    "Find out what functions a list has, using    **my_list.\\<TAB\\>**"
   ]
  },
  {
   "cell_type": "markdown",
   "id": "8e1acef4-a5c8-4502-ac16-ff90c3ef505b",
   "metadata": {},
   "source": [
    "* create an empty list with my_list = []\n",
    "* populate it with my_list.append().\n",
    "* remove items with my_list.pop()"
   ]
  },
  {
   "cell_type": "code",
   "execution_count": 23,
   "id": "e9338256-034c-4b7a-91ba-e2df49ccf179",
   "metadata": {},
   "outputs": [
    {
     "data": {
      "text/plain": [
       "[3, 2, 1]"
      ]
     },
     "execution_count": 23,
     "metadata": {},
     "output_type": "execute_result"
    }
   ],
   "source": [
    "my_list = [1,2,3]\n",
    "my_list.reverse()\n",
    "my_list"
   ]
  },
  {
   "cell_type": "code",
   "execution_count": 27,
   "id": "1b6777a9-fdeb-425d-87cf-56976b467569",
   "metadata": {},
   "outputs": [
    {
     "name": "stdout",
     "output_type": "stream",
     "text": [
      "333\n",
      "[1, 22]\n"
     ]
    }
   ],
   "source": [
    "my_list = []\n",
    "my_list.append(1)\n",
    "my_list.append(22)\n",
    "my_list.append(333)\n",
    "my_list #use for append and pop?\n",
    "t = my_list.pop()\n",
    "print(t)\n",
    "print(my_list)"
   ]
  },
  {
   "cell_type": "markdown",
   "id": "bba64e8e-1e78-408e-8c48-7b711edca7af",
   "metadata": {},
   "source": [
    "* Gain access to individual items within the list by indexing.\n"
   ]
  },
  {
   "cell_type": "code",
   "execution_count": 34,
   "id": "bb1986d8-31fe-4cd8-bd19-6f5b8ae77017",
   "metadata": {},
   "outputs": [
    {
     "name": "stdout",
     "output_type": "stream",
     "text": [
      "[1, 22, 333, 333, 333]\n"
     ]
    }
   ],
   "source": [
    "my_list.append(t)\n",
    "my_list[1]\n",
    "my_list[0]\n",
    "my_list[-1] #explain?\n",
    "print(my_list) #explain the re-excution, how do you do variable inspector?"
   ]
  },
  {
   "cell_type": "markdown",
   "id": "317061da-b112-464e-bcba-3d99e893b39e",
   "metadata": {},
   "source": [
    "* Iterate directly over the items in the list"
   ]
  },
  {
   "cell_type": "code",
   "execution_count": 36,
   "id": "335852fd-8772-43f6-991e-5a9ffbfeabbe",
   "metadata": {},
   "outputs": [
    {
     "name": "stdout",
     "output_type": "stream",
     "text": [
      "1\n",
      "22\n",
      "333\n",
      "333\n",
      "333\n",
      "x= 333\n"
     ]
    }
   ],
   "source": [
    "for x in my_list:\n",
    "    print(x)\n",
    "print(\"x=\",x)"
   ]
  },
  {
   "cell_type": "markdown",
   "id": "f5905ff1-bf83-48da-9bbc-5f52004297fc",
   "metadata": {},
   "source": [
    "* Iterate over a list with a for loop using the range() function. Inside the loop,\n",
    "print out i, along with the item that i corresponds to in the list (indexing)."
   ]
  },
  {
   "cell_type": "code",
   "execution_count": 39,
   "id": "961f1aa4-7673-4bc9-80e0-09086a8de95a",
   "metadata": {},
   "outputs": [
    {
     "name": "stdout",
     "output_type": "stream",
     "text": [
      "0 1\n",
      "1 22\n",
      "2 333\n",
      "3 333\n",
      "4 333\n"
     ]
    }
   ],
   "source": [
    "for i in range(len(my_list)):\n",
    "    print(i,my_list[i])"
   ]
  },
  {
   "cell_type": "markdown",
   "id": "afcacc21-0dbd-419b-ad74-6702991771aa",
   "metadata": {},
   "source": [
    "* Use enumerate() to iterate over the list while also having an integer for indexing.\n",
    "* it returns a **tuple** of two numbers"
   ]
  },
  {
   "cell_type": "code",
   "execution_count": 41,
   "id": "be50f5ad-d27c-400f-a009-df8adcc15912",
   "metadata": {},
   "outputs": [
    {
     "name": "stdout",
     "output_type": "stream",
     "text": [
      "0 1\n",
      "1 22\n",
      "2 333\n",
      "3 333\n",
      "4 333\n"
     ]
    }
   ],
   "source": [
    "for i in enumerate(my_list):\n",
    "    #print(i) #see how the tuple show up\n",
    "    print(i[0],i[1])"
   ]
  },
  {
   "cell_type": "code",
   "execution_count": 42,
   "id": "51d57d87-ed23-4352-953f-94e9de1993ff",
   "metadata": {},
   "outputs": [
    {
     "data": {
      "text/plain": [
       "range(0, 5)"
      ]
     },
     "execution_count": 42,
     "metadata": {},
     "output_type": "execute_result"
    }
   ],
   "source": [
    "range(5)"
   ]
  },
  {
   "cell_type": "code",
   "execution_count": 46,
   "id": "98ce2b41-0b6e-4661-844f-361cad9977fc",
   "metadata": {},
   "outputs": [
    {
     "data": {
      "text/plain": [
       "[1, 3, 5, 7, 9, 11, 13]"
      ]
     },
     "execution_count": 46,
     "metadata": {},
     "output_type": "execute_result"
    }
   ],
   "source": [
    "list(range(1,15,2))"
   ]
  },
  {
   "cell_type": "markdown",
   "id": "edc3639b-4dde-4484-bc69-5aca20b61848",
   "metadata": {},
   "source": [
    "* the range() function does not generate a list, it is an **iterator**"
   ]
  },
  {
   "cell_type": "code",
   "execution_count": 49,
   "id": "82d030ca-f9ac-48be-a523-9f1a4dc7bfc3",
   "metadata": {},
   "outputs": [
    {
     "name": "stdout",
     "output_type": "stream",
     "text": [
      "*** hello\n",
      "h\n",
      "e\n",
      "l\n",
      "l\n",
      "o\n",
      "*** python\n",
      "p\n",
      "y\n",
      "t\n",
      "h\n",
      "o\n",
      "n\n"
     ]
    }
   ],
   "source": [
    "for w in [\"hello\", \"python\"]:\n",
    "    print('***', w)\n",
    "    for i in range(len(w)):\n",
    "        print(w[i])"
   ]
  },
  {
   "cell_type": "code",
   "execution_count": null,
   "id": "bf9789f2-0859-4186-9360-9e89f900d7ae",
   "metadata": {},
   "outputs": [],
   "source": []
  },
  {
   "cell_type": "code",
   "execution_count": null,
   "id": "0a9d33f0-76b4-43b6-9bce-9891de724071",
   "metadata": {},
   "outputs": [],
   "source": []
  },
  {
   "cell_type": "code",
   "execution_count": null,
   "id": "245d7e39-1255-4896-8af0-6211f3ef2072",
   "metadata": {},
   "outputs": [],
   "source": []
  },
  {
   "cell_type": "code",
   "execution_count": null,
   "id": "62930ead-ca25-42f3-87e2-6c58d39e5527",
   "metadata": {},
   "outputs": [],
   "source": []
  },
  {
   "cell_type": "markdown",
   "id": "107f1406-a320-4b55-8702-3b761f21f12e",
   "metadata": {
    "scrolled": true
   },
   "source": [
    "* double **for** loop: nesting one for loop inside another for loop"
   ]
  },
  {
   "cell_type": "code",
   "execution_count": null,
   "id": "7d9f51fe-3911-42a8-9553-60ab153b90e3",
   "metadata": {
    "scrolled": true
   },
   "outputs": [],
   "source": []
  },
  {
   "cell_type": "markdown",
   "id": "968c7e5f-9cc4-437f-9fd2-d90134021f5b",
   "metadata": {},
   "source": [
    "other features of control flow in for-loops:\n",
    "\n",
    "* premature ending of a **for** loop using **break**\n",
    "* conditional back to top of **for** loop using **continue**"
   ]
  },
  {
   "cell_type": "code",
   "execution_count": null,
   "id": "fa1a89cd-6c69-4889-9c51-8f67b9069e9d",
   "metadata": {},
   "outputs": [],
   "source": []
  },
  {
   "cell_type": "code",
   "execution_count": null,
   "id": "094ef012-b118-4c85-9704-7dabc7b767a7",
   "metadata": {},
   "outputs": [],
   "source": []
  },
  {
   "cell_type": "markdown",
   "id": "926b4950-0533-41ba-bb99-76afd9d5bfd1",
   "metadata": {},
   "source": [
    "# if ... elif ... else\n",
    "\n",
    "Basic control flow if/then/else\n",
    "\n",
    "```\n",
    "   if <boolean_condition> :\n",
    "        commands\n",
    "   elif <boolean_condition> :\n",
    "        commands\n",
    "   else:\n",
    "        commands\n",
    "```"
   ]
  },
  {
   "cell_type": "code",
   "execution_count": 50,
   "id": "f8ecaf82-1aa4-4512-9dc0-2cc00c3ce934",
   "metadata": {},
   "outputs": [
    {
     "name": "stdout",
     "output_type": "stream",
     "text": [
      "in the middle\n"
     ]
    }
   ],
   "source": [
    "a = 15\n",
    "if a<10:\n",
    "    print(\"less than 10\")\n",
    "elif a>20:\n",
    "    print(\"more than 20\")\n",
    "else:\n",
    "    print(\"in the middle\")\n",
    "    "
   ]
  },
  {
   "cell_type": "markdown",
   "id": "5dd06db4-4655-4536-ab40-3679f9b83b46",
   "metadata": {},
   "source": [
    "#  while loop.\n",
    "\n",
    "```\n",
    "while <boolean_condition>:\n",
    "    commands\n",
    "```\n",
    "\n",
    "Use the **while** loop if you don't known when loop will end.   The **for** loop is when you know how often to loop.\n",
    "\n",
    "**WARNING**:   it is not too difficult to create an infinite **while** loop. You would need to interrupt the kernel."
   ]
  },
  {
   "cell_type": "code",
   "execution_count": 53,
   "id": "1fa91bb0-249d-4b27-b884-19cf29de3634",
   "metadata": {},
   "outputs": [
    {
     "name": "stdout",
     "output_type": "stream",
     "text": [
      "1\n",
      "2\n",
      "3\n",
      "4\n"
     ]
    }
   ],
   "source": [
    "n = 1\n",
    "while n<10:\n",
    "    print(n)\n",
    "    n = n + 1\n",
    "    if n == 5:\n",
    "        break"
   ]
  },
  {
   "cell_type": "markdown",
   "id": "0675e2f2-e186-4a51-b47f-d55c34df17c7",
   "metadata": {},
   "source": [
    "# Recap\n",
    "\n",
    "See more in-depth examples of control flow on **w3schools**:\n",
    "* [for](https://www.w3schools.com/python/python_for_loops.asp)\n",
    "* [if...elif...else](https://www.w3schools.com/python/python_conditions.asp)\n",
    "* [while](https://www.w3schools.com/python/python_while_loops.asp)"
   ]
  },
  {
   "cell_type": "code",
   "execution_count": null,
   "id": "39a62b98-6546-4190-93b7-a71029405ee5",
   "metadata": {},
   "outputs": [],
   "source": []
  },
  {
   "cell_type": "code",
   "execution_count": null,
   "id": "8e585036-84db-49eb-9927-a13dd97c24f5",
   "metadata": {},
   "outputs": [],
   "source": []
  }
 ],
 "metadata": {
  "kernelspec": {
   "display_name": "Python 3 (ipykernel)",
   "language": "python",
   "name": "python3"
  },
  "language_info": {
   "codemirror_mode": {
    "name": "ipython",
    "version": 3
   },
   "file_extension": ".py",
   "mimetype": "text/x-python",
   "name": "python",
   "nbconvert_exporter": "python",
   "pygments_lexer": "ipython3",
   "version": "3.12.5"
  },
  "widgets": {
   "application/vnd.jupyter.widget-state+json": {
    "state": {},
    "version_major": 2,
    "version_minor": 0
   }
  }
 },
 "nbformat": 4,
 "nbformat_minor": 5
}
